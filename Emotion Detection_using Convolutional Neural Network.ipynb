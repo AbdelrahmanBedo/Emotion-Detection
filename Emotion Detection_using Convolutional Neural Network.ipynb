{
 "cells": [
  {
   "cell_type": "code",
   "execution_count": 1,
   "id": "aec96bac",
   "metadata": {},
   "outputs": [
    {
     "name": "stdout",
     "output_type": "stream",
     "text": [
      "WARNING:tensorflow:From C:\\Users\\Abdelrahman\\anaconda3\\lib\\site-packages\\keras\\src\\losses.py:2976: The name tf.losses.sparse_softmax_cross_entropy is deprecated. Please use tf.compat.v1.losses.sparse_softmax_cross_entropy instead.\n",
      "\n"
     ]
    }
   ],
   "source": [
    "import cv2\n",
    "from keras.models import Sequential\n",
    "from keras.layers import Conv2D, MaxPooling2D, Dense, Dropout, Flatten\n",
    "from keras.optimizers import Adam\n",
    "from keras.preprocessing.image import ImageDataGenerator"
   ]
  },
  {
   "cell_type": "code",
   "execution_count": 2,
   "id": "652487b5",
   "metadata": {},
   "outputs": [],
   "source": [
    "# Initialize image data generator with rescaling\n",
    "train_data_gen = ImageDataGenerator(rescale=1./255)\n",
    "validation_data_gen = ImageDataGenerator(rescale=1./255)"
   ]
  },
  {
   "cell_type": "code",
   "execution_count": 4,
   "id": "74697838",
   "metadata": {},
   "outputs": [
    {
     "name": "stdout",
     "output_type": "stream",
     "text": [
      "Found 57418 images belonging to 7 classes.\n"
     ]
    }
   ],
   "source": [
    "# Preprocess all test images\n",
    "train_generator = train_data_gen.flow_from_directory(\n",
    "        \"E:\\\\archive (12)\\\\train\",\n",
    "        target_size=(48, 48),\n",
    "        batch_size=64,\n",
    "        color_mode=\"grayscale\",\n",
    "        class_mode='categorical')"
   ]
  },
  {
   "cell_type": "code",
   "execution_count": 5,
   "id": "2f0063c4",
   "metadata": {},
   "outputs": [
    {
     "name": "stdout",
     "output_type": "stream",
     "text": [
      "Found 10767 images belonging to 7 classes.\n"
     ]
    }
   ],
   "source": [
    "# Preprocess all train images\n",
    "validation_generator = validation_data_gen.flow_from_directory(\n",
    "        \"E:\\\\archive (12)\\\\test\",\n",
    "        target_size=(48, 48),\n",
    "        batch_size=64,\n",
    "        color_mode=\"grayscale\",\n",
    "        class_mode='categorical')"
   ]
  },
  {
   "cell_type": "code",
   "execution_count": 7,
   "id": "9aae6a70",
   "metadata": {},
   "outputs": [],
   "source": [
    "# create model structure\n",
    "emotion_model = Sequential()\n",
    "\n",
    "emotion_model.add(Conv2D(32, kernel_size=(3, 3), activation='relu', input_shape=(48, 48, 1)))\n",
    "emotion_model.add(Conv2D(64, kernel_size=(3, 3), activation='relu'))\n",
    "emotion_model.add(MaxPooling2D(pool_size=(2, 2)))\n",
    "emotion_model.add(Dropout(0.25))\n",
    "\n",
    "emotion_model.add(Conv2D(128, kernel_size=(3, 3), activation='relu'))\n",
    "emotion_model.add(MaxPooling2D(pool_size=(2, 2)))\n",
    "emotion_model.add(Conv2D(128, kernel_size=(3, 3), activation='relu'))\n",
    "emotion_model.add(MaxPooling2D(pool_size=(2, 2)))\n",
    "emotion_model.add(Dropout(0.25))\n",
    "\n",
    "emotion_model.add(Flatten())\n",
    "emotion_model.add(Dense(1024, activation='relu'))\n",
    "emotion_model.add(Dropout(0.5))\n",
    "emotion_model.add(Dense(7, activation='softmax'))\n",
    "\n",
    "cv2.ocl.setUseOpenCL(False)\n",
    "\n",
    "emotion_model.compile(loss='categorical_crossentropy', \n",
    "                      optimizer=Adam(learning_rate=0.0001), \n",
    "                      metrics=['accuracy'])"
   ]
  },
  {
   "cell_type": "code",
   "execution_count": 8,
   "id": "f8de5fa4",
   "metadata": {},
   "outputs": [
    {
     "name": "stdout",
     "output_type": "stream",
     "text": [
      "Epoch 1/50\n"
     ]
    },
    {
     "name": "stderr",
     "output_type": "stream",
     "text": [
      "C:\\Users\\Abdelrahman\\AppData\\Local\\Temp\\ipykernel_14684\\3198193097.py:2: UserWarning: `Model.fit_generator` is deprecated and will be removed in a future version. Please use `Model.fit`, which supports generators.\n",
      "  emotion_model_info = emotion_model.fit_generator(\n"
     ]
    },
    {
     "name": "stdout",
     "output_type": "stream",
     "text": [
      "WARNING:tensorflow:From C:\\Users\\Abdelrahman\\anaconda3\\lib\\site-packages\\keras\\src\\utils\\tf_utils.py:492: The name tf.ragged.RaggedTensorValue is deprecated. Please use tf.compat.v1.ragged.RaggedTensorValue instead.\n",
      "\n"
     ]
    },
    {
     "name": "stderr",
     "output_type": "stream",
     "text": [
      "WARNING:tensorflow:From C:\\Users\\Abdelrahman\\anaconda3\\lib\\site-packages\\keras\\src\\utils\\tf_utils.py:492: The name tf.ragged.RaggedTensorValue is deprecated. Please use tf.compat.v1.ragged.RaggedTensorValue instead.\n",
      "\n"
     ]
    },
    {
     "name": "stdout",
     "output_type": "stream",
     "text": [
      "WARNING:tensorflow:From C:\\Users\\Abdelrahman\\anaconda3\\lib\\site-packages\\keras\\src\\engine\\base_layer_utils.py:384: The name tf.executing_eagerly_outside_functions is deprecated. Please use tf.compat.v1.executing_eagerly_outside_functions instead.\n",
      "\n"
     ]
    },
    {
     "name": "stderr",
     "output_type": "stream",
     "text": [
      "WARNING:tensorflow:From C:\\Users\\Abdelrahman\\anaconda3\\lib\\site-packages\\keras\\src\\engine\\base_layer_utils.py:384: The name tf.executing_eagerly_outside_functions is deprecated. Please use tf.compat.v1.executing_eagerly_outside_functions instead.\n",
      "\n"
     ]
    },
    {
     "name": "stdout",
     "output_type": "stream",
     "text": [
      "448/448 [==============================] - 64s 139ms/step - loss: 1.8020 - accuracy: 0.2586 - val_loss: 1.7174 - val_accuracy: 0.3318\n",
      "Epoch 2/50\n",
      "448/448 [==============================] - 64s 143ms/step - loss: 1.6265 - accuracy: 0.3665 - val_loss: 1.5529 - val_accuracy: 0.4023\n",
      "Epoch 3/50\n",
      "448/448 [==============================] - 65s 144ms/step - loss: 1.5004 - accuracy: 0.4242 - val_loss: 1.4829 - val_accuracy: 0.4322\n",
      "Epoch 4/50\n",
      "448/448 [==============================] - 65s 144ms/step - loss: 1.4227 - accuracy: 0.4576 - val_loss: 1.4558 - val_accuracy: 0.4480\n",
      "Epoch 5/50\n",
      "448/448 [==============================] - 65s 145ms/step - loss: 1.3644 - accuracy: 0.4837 - val_loss: 1.3771 - val_accuracy: 0.4827\n",
      "Epoch 6/50\n",
      "448/448 [==============================] - 65s 145ms/step - loss: 1.3164 - accuracy: 0.4994 - val_loss: 1.3561 - val_accuracy: 0.4886\n",
      "Epoch 7/50\n",
      "448/448 [==============================] - 65s 145ms/step - loss: 1.2691 - accuracy: 0.5190 - val_loss: 1.3258 - val_accuracy: 0.5036\n",
      "Epoch 8/50\n",
      "448/448 [==============================] - 64s 144ms/step - loss: 1.2328 - accuracy: 0.5356 - val_loss: 1.3047 - val_accuracy: 0.5061\n",
      "Epoch 9/50\n",
      "448/448 [==============================] - 65s 144ms/step - loss: 1.1983 - accuracy: 0.5489 - val_loss: 1.3052 - val_accuracy: 0.5116\n",
      "Epoch 10/50\n",
      "448/448 [==============================] - 64s 142ms/step - loss: 1.1763 - accuracy: 0.5598 - val_loss: 1.2698 - val_accuracy: 0.5282\n",
      "Epoch 11/50\n",
      "448/448 [==============================] - 63s 141ms/step - loss: 1.1385 - accuracy: 0.5748 - val_loss: 1.2733 - val_accuracy: 0.5283\n",
      "Epoch 12/50\n",
      "448/448 [==============================] - 65s 144ms/step - loss: 1.1278 - accuracy: 0.5760 - val_loss: 1.2889 - val_accuracy: 0.5286\n",
      "Epoch 13/50\n",
      "448/448 [==============================] - 64s 143ms/step - loss: 1.0973 - accuracy: 0.5889 - val_loss: 1.2563 - val_accuracy: 0.5354\n",
      "Epoch 14/50\n",
      "448/448 [==============================] - 66s 147ms/step - loss: 1.0706 - accuracy: 0.5965 - val_loss: 1.2321 - val_accuracy: 0.5552\n",
      "Epoch 15/50\n",
      "448/448 [==============================] - 66s 147ms/step - loss: 1.0443 - accuracy: 0.6115 - val_loss: 1.2425 - val_accuracy: 0.5466\n",
      "Epoch 16/50\n",
      "448/448 [==============================] - 65s 145ms/step - loss: 1.0261 - accuracy: 0.6185 - val_loss: 1.2272 - val_accuracy: 0.5540\n",
      "Epoch 17/50\n",
      "448/448 [==============================] - 65s 146ms/step - loss: 0.9985 - accuracy: 0.6295 - val_loss: 1.2168 - val_accuracy: 0.5670\n",
      "Epoch 18/50\n",
      "448/448 [==============================] - 64s 144ms/step - loss: 0.9736 - accuracy: 0.6403 - val_loss: 1.2112 - val_accuracy: 0.5696\n",
      "Epoch 19/50\n",
      "448/448 [==============================] - 64s 142ms/step - loss: 0.9470 - accuracy: 0.6491 - val_loss: 1.1992 - val_accuracy: 0.5748\n",
      "Epoch 20/50\n",
      "448/448 [==============================] - 64s 142ms/step - loss: 0.9276 - accuracy: 0.6604 - val_loss: 1.2047 - val_accuracy: 0.5667\n",
      "Epoch 21/50\n",
      "448/448 [==============================] - 63s 141ms/step - loss: 0.9096 - accuracy: 0.6651 - val_loss: 1.1963 - val_accuracy: 0.5851\n",
      "Epoch 22/50\n",
      "448/448 [==============================] - 65s 145ms/step - loss: 0.8779 - accuracy: 0.6755 - val_loss: 1.2132 - val_accuracy: 0.5787\n",
      "Epoch 23/50\n",
      "448/448 [==============================] - 65s 145ms/step - loss: 0.8529 - accuracy: 0.6883 - val_loss: 1.2292 - val_accuracy: 0.5749\n",
      "Epoch 24/50\n",
      "448/448 [==============================] - 64s 142ms/step - loss: 0.8291 - accuracy: 0.6952 - val_loss: 1.2337 - val_accuracy: 0.5813\n",
      "Epoch 25/50\n",
      "448/448 [==============================] - 63s 141ms/step - loss: 0.8081 - accuracy: 0.7071 - val_loss: 1.2279 - val_accuracy: 0.5901\n",
      "Epoch 26/50\n",
      "448/448 [==============================] - 65s 144ms/step - loss: 0.7909 - accuracy: 0.7091 - val_loss: 1.2233 - val_accuracy: 0.5841\n",
      "Epoch 27/50\n",
      "448/448 [==============================] - 65s 144ms/step - loss: 0.7578 - accuracy: 0.7248 - val_loss: 1.2278 - val_accuracy: 0.5866\n",
      "Epoch 28/50\n",
      "448/448 [==============================] - 64s 143ms/step - loss: 0.7347 - accuracy: 0.7301 - val_loss: 1.2378 - val_accuracy: 0.5861\n",
      "Epoch 29/50\n",
      "448/448 [==============================] - 63s 141ms/step - loss: 0.7143 - accuracy: 0.7395 - val_loss: 1.2258 - val_accuracy: 0.5928\n",
      "Epoch 30/50\n",
      "448/448 [==============================] - 63s 141ms/step - loss: 0.7001 - accuracy: 0.7457 - val_loss: 1.2642 - val_accuracy: 0.5851\n",
      "Epoch 31/50\n",
      "448/448 [==============================] - 64s 144ms/step - loss: 0.6609 - accuracy: 0.7618 - val_loss: 1.2579 - val_accuracy: 0.5932\n",
      "Epoch 32/50\n",
      "448/448 [==============================] - 64s 142ms/step - loss: 0.6488 - accuracy: 0.7644 - val_loss: 1.3026 - val_accuracy: 0.5833\n",
      "Epoch 33/50\n",
      "448/448 [==============================] - 64s 142ms/step - loss: 0.6278 - accuracy: 0.7724 - val_loss: 1.2687 - val_accuracy: 0.5940\n",
      "Epoch 34/50\n",
      "448/448 [==============================] - 64s 144ms/step - loss: 0.5953 - accuracy: 0.7848 - val_loss: 1.2800 - val_accuracy: 0.5875\n",
      "Epoch 35/50\n",
      "448/448 [==============================] - 65s 144ms/step - loss: 0.5874 - accuracy: 0.7873 - val_loss: 1.2999 - val_accuracy: 0.5900\n",
      "Epoch 36/50\n",
      "448/448 [==============================] - 66s 147ms/step - loss: 0.5687 - accuracy: 0.7943 - val_loss: 1.3441 - val_accuracy: 0.5845\n",
      "Epoch 37/50\n",
      "448/448 [==============================] - 69s 154ms/step - loss: 0.5506 - accuracy: 0.8020 - val_loss: 1.3095 - val_accuracy: 0.5984\n",
      "Epoch 38/50\n",
      "448/448 [==============================] - 66s 148ms/step - loss: 0.5263 - accuracy: 0.8101 - val_loss: 1.3345 - val_accuracy: 0.5900\n",
      "Epoch 39/50\n",
      "448/448 [==============================] - 66s 148ms/step - loss: 0.5156 - accuracy: 0.8127 - val_loss: 1.3747 - val_accuracy: 0.5964\n",
      "Epoch 40/50\n",
      "448/448 [==============================] - 67s 150ms/step - loss: 0.4902 - accuracy: 0.8249 - val_loss: 1.3751 - val_accuracy: 0.5940\n",
      "Epoch 41/50\n",
      "448/448 [==============================] - 67s 150ms/step - loss: 0.4734 - accuracy: 0.8295 - val_loss: 1.3733 - val_accuracy: 0.5944\n",
      "Epoch 42/50\n",
      "448/448 [==============================] - 70s 157ms/step - loss: 0.4618 - accuracy: 0.8326 - val_loss: 1.3775 - val_accuracy: 0.6027\n",
      "Epoch 43/50\n",
      "448/448 [==============================] - 66s 147ms/step - loss: 0.4437 - accuracy: 0.8405 - val_loss: 1.3949 - val_accuracy: 0.5993\n",
      "Epoch 44/50\n",
      "448/448 [==============================] - 65s 144ms/step - loss: 0.4182 - accuracy: 0.8510 - val_loss: 1.4014 - val_accuracy: 0.6053\n",
      "Epoch 45/50\n",
      "448/448 [==============================] - 65s 146ms/step - loss: 0.4179 - accuracy: 0.8499 - val_loss: 1.3842 - val_accuracy: 0.5996\n",
      "Epoch 46/50\n",
      "448/448 [==============================] - 64s 143ms/step - loss: 0.4064 - accuracy: 0.8538 - val_loss: 1.4827 - val_accuracy: 0.5989\n",
      "Epoch 47/50\n",
      "448/448 [==============================] - 65s 144ms/step - loss: 0.3837 - accuracy: 0.8635 - val_loss: 1.4796 - val_accuracy: 0.5932\n",
      "Epoch 48/50\n",
      "448/448 [==============================] - 64s 143ms/step - loss: 0.3794 - accuracy: 0.8670 - val_loss: 1.5387 - val_accuracy: 0.5901\n",
      "Epoch 49/50\n",
      "448/448 [==============================] - 66s 147ms/step - loss: 0.3726 - accuracy: 0.8665 - val_loss: 1.5057 - val_accuracy: 0.5929\n",
      "Epoch 50/50\n",
      "448/448 [==============================] - 65s 144ms/step - loss: 0.3537 - accuracy: 0.8735 - val_loss: 1.5131 - val_accuracy: 0.5958\n"
     ]
    }
   ],
   "source": [
    "# Train the neural network/model\n",
    "emotion_model_info = emotion_model.fit_generator(\n",
    "        train_generator,\n",
    "        steps_per_epoch=28709 // 64,\n",
    "        epochs=50,\n",
    "        validation_data=validation_generator,\n",
    "        validation_steps=7178 // 64)"
   ]
  },
  {
   "cell_type": "code",
   "execution_count": 10,
   "id": "39ffb3f0",
   "metadata": {},
   "outputs": [],
   "source": [
    "# save model structure in jason file\n",
    "model_json = emotion_model.to_json()\n",
    "with open(\"emotion_model_1.json\", \"w\") as json_file:\n",
    "    json_file.write(model_json)"
   ]
  },
  {
   "cell_type": "code",
   "execution_count": 11,
   "id": "53ad4d43",
   "metadata": {},
   "outputs": [],
   "source": [
    "# save trained model weight in .h5 file\n",
    "emotion_model.save_weights('emotion_model_1.h5')"
   ]
  },
  {
   "cell_type": "code",
   "execution_count": null,
   "id": "8a05bcc0",
   "metadata": {},
   "outputs": [],
   "source": []
  }
 ],
 "metadata": {
  "kernelspec": {
   "display_name": "Python 3 (ipykernel)",
   "language": "python",
   "name": "python3"
  },
  "language_info": {
   "codemirror_mode": {
    "name": "ipython",
    "version": 3
   },
   "file_extension": ".py",
   "mimetype": "text/x-python",
   "name": "python",
   "nbconvert_exporter": "python",
   "pygments_lexer": "ipython3",
   "version": "3.10.9"
  }
 },
 "nbformat": 4,
 "nbformat_minor": 5
}
